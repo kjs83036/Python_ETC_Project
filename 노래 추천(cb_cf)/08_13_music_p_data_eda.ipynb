{
 "cells": [
  {
   "cell_type": "code",
   "execution_count": 2,
   "metadata": {},
   "outputs": [],
   "source": [
    "import pandas as pd\n",
    "import matplotlib.pyplot as mlt\n",
    "\n",
    "path = \"C:\\\\Users\\\\Affinity\\\\Downloads\\\\으막\\\\mard\\\\\"\n",
    "df = pd.read_csv(path + \"total_data_2.csv\")"
   ]
  },
  {
   "cell_type": "code",
   "execution_count": 4,
   "metadata": {},
   "outputs": [],
   "source": [
    "df = df.drop([df.columns[0], df.columns[1]], axis=1)"
   ]
  },
  {
   "cell_type": "code",
   "execution_count": 6,
   "metadata": {},
   "outputs": [],
   "source": [
    "df = df.drop([df.columns[3], df.columns[4], df.columns[5], df.columns[9], df.columns[13], df.columns[14]], axis=1)"
   ]
  },
  {
   "cell_type": "code",
   "execution_count": 12,
   "metadata": {},
   "outputs": [
    {
     "data": {
      "text/html": [
       "<div>\n",
       "<style scoped>\n",
       "    .dataframe tbody tr th:only-of-type {\n",
       "        vertical-align: middle;\n",
       "    }\n",
       "\n",
       "    .dataframe tbody tr th {\n",
       "        vertical-align: top;\n",
       "    }\n",
       "\n",
       "    .dataframe thead th {\n",
       "        text-align: right;\n",
       "    }\n",
       "</style>\n",
       "<table border=\"1\" class=\"dataframe\">\n",
       "  <thead>\n",
       "    <tr style=\"text-align: right;\">\n",
       "      <th></th>\n",
       "      <th>amazon-id</th>\n",
       "      <th>songs_x</th>\n",
       "      <th>artist</th>\n",
       "      <th>root-genre</th>\n",
       "      <th>salesRank</th>\n",
       "      <th>reviewText</th>\n",
       "      <th>reviewerID</th>\n",
       "      <th>loudness</th>\n",
       "      <th>bpm</th>\n",
       "      <th>key</th>\n",
       "      <th>scale</th>\n",
       "    </tr>\n",
       "  </thead>\n",
       "  <tbody>\n",
       "    <tr>\n",
       "      <th>0</th>\n",
       "      <td>630251228X</td>\n",
       "      <td>Jok Omako Nyako</td>\n",
       "      <td>Geoffrey Oryema</td>\n",
       "      <td>Alternative Rock</td>\n",
       "      <td>530408.0</td>\n",
       "      <td>I give it 5 stars for the thumb piano, the gui...</td>\n",
       "      <td>A2D04UKNBWTSA3</td>\n",
       "      <td>0.863332</td>\n",
       "      <td>136.686081</td>\n",
       "      <td>E</td>\n",
       "      <td>major</td>\n",
       "    </tr>\n",
       "    <tr>\n",
       "      <th>1</th>\n",
       "      <td>630251228X</td>\n",
       "      <td>Jok Omako Nyako</td>\n",
       "      <td>Geoffrey Oryema</td>\n",
       "      <td>Alternative Rock</td>\n",
       "      <td>530408.0</td>\n",
       "      <td>This is my all-time favorite CD of African pop...</td>\n",
       "      <td>A3AWLFMKGRMI5M</td>\n",
       "      <td>0.863332</td>\n",
       "      <td>136.686081</td>\n",
       "      <td>E</td>\n",
       "      <td>major</td>\n",
       "    </tr>\n",
       "    <tr>\n",
       "      <th>2</th>\n",
       "      <td>630251228X</td>\n",
       "      <td>Jok Omako Nyako</td>\n",
       "      <td>Geoffrey Oryema</td>\n",
       "      <td>Alternative Rock</td>\n",
       "      <td>530408.0</td>\n",
       "      <td>His rhythms are impeccable. His voice is a smo...</td>\n",
       "      <td>A3PP84HBIN7NO7</td>\n",
       "      <td>0.863332</td>\n",
       "      <td>136.686081</td>\n",
       "      <td>E</td>\n",
       "      <td>major</td>\n",
       "    </tr>\n",
       "    <tr>\n",
       "      <th>3</th>\n",
       "      <td>630251228X</td>\n",
       "      <td>Jok Omako Nyako</td>\n",
       "      <td>Geoffrey Oryema</td>\n",
       "      <td>Alternative Rock</td>\n",
       "      <td>530408.0</td>\n",
       "      <td>His rhythms are impeccable.  His voice is a sm...</td>\n",
       "      <td>A3PP84HBIN7NO7</td>\n",
       "      <td>0.863332</td>\n",
       "      <td>136.686081</td>\n",
       "      <td>E</td>\n",
       "      <td>major</td>\n",
       "    </tr>\n",
       "    <tr>\n",
       "      <th>4</th>\n",
       "      <td>630251228X</td>\n",
       "      <td>Jok Omako Nyako</td>\n",
       "      <td>Geoffrey Oryema</td>\n",
       "      <td>Alternative Rock</td>\n",
       "      <td>530408.0</td>\n",
       "      <td>One does not often hear music from Uganda, and...</td>\n",
       "      <td>A3ET9X988R63C1</td>\n",
       "      <td>0.863332</td>\n",
       "      <td>136.686081</td>\n",
       "      <td>E</td>\n",
       "      <td>major</td>\n",
       "    </tr>\n",
       "  </tbody>\n",
       "</table>\n",
       "</div>"
      ],
      "text/plain": [
       "    amazon-id          songs_x           artist        root-genre  salesRank  \\\n",
       "0  630251228X  Jok Omako Nyako  Geoffrey Oryema  Alternative Rock   530408.0   \n",
       "1  630251228X  Jok Omako Nyako  Geoffrey Oryema  Alternative Rock   530408.0   \n",
       "2  630251228X  Jok Omako Nyako  Geoffrey Oryema  Alternative Rock   530408.0   \n",
       "3  630251228X  Jok Omako Nyako  Geoffrey Oryema  Alternative Rock   530408.0   \n",
       "4  630251228X  Jok Omako Nyako  Geoffrey Oryema  Alternative Rock   530408.0   \n",
       "\n",
       "                                          reviewText      reviewerID  \\\n",
       "0  I give it 5 stars for the thumb piano, the gui...  A2D04UKNBWTSA3   \n",
       "1  This is my all-time favorite CD of African pop...  A3AWLFMKGRMI5M   \n",
       "2  His rhythms are impeccable. His voice is a smo...  A3PP84HBIN7NO7   \n",
       "3  His rhythms are impeccable.  His voice is a sm...  A3PP84HBIN7NO7   \n",
       "4  One does not often hear music from Uganda, and...  A3ET9X988R63C1   \n",
       "\n",
       "   loudness         bpm key  scale  \n",
       "0  0.863332  136.686081   E  major  \n",
       "1  0.863332  136.686081   E  major  \n",
       "2  0.863332  136.686081   E  major  \n",
       "3  0.863332  136.686081   E  major  \n",
       "4  0.863332  136.686081   E  major  "
      ]
     },
     "execution_count": 12,
     "metadata": {},
     "output_type": "execute_result"
    }
   ],
   "source": [
    "df = df.drop([df.columns[5]], axis=1)\n",
    "df.head()"
   ]
  },
  {
   "cell_type": "code",
   "execution_count": 13,
   "metadata": {},
   "outputs": [],
   "source": [
    "#df.to_csv(path + \"total_data_3.csv\")"
   ]
  },
  {
   "cell_type": "code",
   "execution_count": null,
   "metadata": {},
   "outputs": [],
   "source": []
  }
 ],
 "metadata": {
  "kernelspec": {
   "display_name": "Python [conda env:.conda-keras] *",
   "language": "python",
   "name": "conda-env-.conda-keras-py"
  },
  "language_info": {
   "codemirror_mode": {
    "name": "ipython",
    "version": 3
   },
   "file_extension": ".py",
   "mimetype": "text/x-python",
   "name": "python",
   "nbconvert_exporter": "python",
   "pygments_lexer": "ipython3",
   "version": "3.6.8"
  }
 },
 "nbformat": 4,
 "nbformat_minor": 2
}
