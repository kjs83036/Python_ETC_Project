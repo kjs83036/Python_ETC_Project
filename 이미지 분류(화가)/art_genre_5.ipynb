{
 "cells": [
  {
   "cell_type": "markdown",
   "metadata": {},
   "source": [
    "# 아트 장르 트레인 통일"
   ]
  },
  {
   "cell_type": "markdown",
   "metadata": {},
   "source": [
    "# 이미지 흑백"
   ]
  },
  {
   "cell_type": "code",
   "execution_count": 1,
   "metadata": {},
   "outputs": [],
   "source": [
    "\n",
    "\n",
    "import tensorflow as tf\n",
    "\n",
    "\n",
    "gpu_options = tf.GPUOptions(per_process_gpu_memory_fraction=0.333)\n",
    "\n",
    "\n",
    "sess = tf.Session(config=tf.ConfigProto(gpu_options=gpu_options))"
   ]
  },
  {
   "cell_type": "code",
   "execution_count": 2,
   "metadata": {},
   "outputs": [],
   "source": [
    "import os\n",
    "import numpy as np\n",
    "import shutil\n",
    "\n",
    "original_dataset_dir = 'C:\\\\Users\\\\Affinity\\\\Downloads\\\\best-artworks-of-all-time\\\\images\\\\images\\\\'\n",
    "\n",
    "validation_dir = 'C:\\\\Users\\\\Affinity\\\\Documents\\\\img\\\\art\\\\art_genre_img\\\\validation'\n",
    "\n",
    "test_dir = 'C:\\\\Users\\\\Affinity\\\\Documents\\\\img\\\\art\\\\art_genre_img\\\\test'\n",
    "\n",
    "train_dir = 'C:\\\\Users\\\\Affinity\\\\Documents\\\\img\\\\art\\\\art_genre_img\\\\train2'\n",
    "\n",
    "l = os.listdir(original_dataset_dir)\n",
    "\n"
   ]
  },
  {
   "cell_type": "code",
   "execution_count": 3,
   "metadata": {},
   "outputs": [
    {
     "name": "stdout",
     "output_type": "stream",
     "text": [
      "Found 1200 images belonging to 6 classes.\n",
      "Found 480 images belonging to 6 classes.\n",
      "Found 480 images belonging to 6 classes.\n"
     ]
    }
   ],
   "source": [
    "from keras.preprocessing.image import ImageDataGenerator\n",
    "\n",
    "\n",
    "train_datagen = ImageDataGenerator(\n",
    "    rescale=1./255,\n",
    "    rotation_range=40,\n",
    "    width_shift_range=0.2,\n",
    "    height_shift_range=0.2,\n",
    "    shear_range=0.2,\n",
    "    zoom_range=0.2,\n",
    "    horizontal_flip=True,\n",
    "    vertical_flip=True,\n",
    "    fill_mode='nearest'\n",
    ")\n",
    "\n",
    "\n",
    "\n",
    "train_datagen = ImageDataGenerator(rescale=1./255)\n",
    "\n",
    "train_generator = train_datagen.flow_from_directory(\n",
    "    train_dir,\n",
    "    target_size=(150, 150),\n",
    "    batch_size=20,\n",
    "    class_mode='categorical'\n",
    ")\n",
    "\n",
    "validation_datagen = ImageDataGenerator(rescale=1./255)\n",
    "\n",
    "validation_generator = validation_datagen.flow_from_directory(\n",
    "    validation_dir,\n",
    "    target_size=(150, 150),\n",
    "    batch_size=20,\n",
    "    class_mode='categorical'\n",
    ")\n",
    "\n",
    "test_datagen = ImageDataGenerator(rescale=1./255)\n",
    "\n",
    "test_generator = test_datagen.flow_from_directory(\n",
    "    test_dir,\n",
    "    target_size=(150, 150),\n",
    "    batch_size=20,\n",
    "    class_mode='categorical'\n",
    ")\n"
   ]
  },
  {
   "cell_type": "code",
   "execution_count": null,
   "metadata": {},
   "outputs": [],
   "source": [
    "l2 = os.listdir(train_dir)\n",
    "l2"
   ]
  },
  {
   "cell_type": "code",
   "execution_count": null,
   "metadata": {},
   "outputs": [],
   "source": [
    "# import random\n",
    "\n",
    "\n",
    "# for i in l2:\n",
    "#     l_genre = os.listdir(train_dir + '/' + i)\n",
    "#     random.shuffle(l_genre)\n",
    "#     os.mkdir(train_dir + '/' + i + '2')\n",
    "#     for j in range(200):\n",
    "#         fname = l_genre[j]\n",
    "#         src = os.path.join(train_dir + '/' + i, fname)\n",
    "#         dst = os.path.join(train_dir + '/' + i + '2', fname)\n",
    "#         shutil.copyfile(src, dst)\n",
    "    "
   ]
  },
  {
   "cell_type": "code",
   "execution_count": 4,
   "metadata": {},
   "outputs": [
    {
     "name": "stdout",
     "output_type": "stream",
     "text": [
      "WARNING:tensorflow:From C:\\Users\\Affinity\\.conda\\envs\\keras\\lib\\site-packages\\tensorflow\\python\\framework\\op_def_library.py:263: colocate_with (from tensorflow.python.framework.ops) is deprecated and will be removed in a future version.\n",
      "Instructions for updating:\n",
      "Colocations handled automatically by placer.\n",
      "Found 1200 images belonging to 6 classes.\n",
      "Found 480 images belonging to 6 classes.\n",
      "Found 480 images belonging to 6 classes.\n"
     ]
    }
   ],
   "source": [
    "import numpy as np\n",
    "\n",
    "from keras.preprocessing.image import ImageDataGenerator\n",
    "\n",
    "from keras.applications import VGG16\n",
    "\n",
    "conv_base = VGG16(weights='imagenet',\n",
    "                 include_top=False,\n",
    "                 input_shape=(150, 150, 3))\n",
    "\n",
    "\n",
    "\n",
    "\n",
    "datagen = ImageDataGenerator(\n",
    "    rescale=1./255,\n",
    "    rotation_range=40,\n",
    "    width_shift_range=0.2,\n",
    "    height_shift_range=0.2,\n",
    "    shear_range=0.2,\n",
    "    zoom_range=0.2,\n",
    "    horizontal_flip=True,\n",
    "    vertical_flip=True,\n",
    "    fill_mode='nearest'\n",
    ")\n",
    "batch_size = 20\n",
    "\n",
    "def extract_features(directory, sample_count):\n",
    "    features = np.zeros(shape=(sample_count, 4, 4, 512))\n",
    "    labels = np.zeros(shape=(sample_count, 6))\n",
    "    generator = datagen.flow_from_directory(\n",
    "        directory,\n",
    "        target_size=(150, 150),\n",
    "        batch_size=batch_size,\n",
    "        class_mode='categorical')\n",
    "    i = 0\n",
    "    for inputs_batch, labels_batch in generator:\n",
    "        features_batch = conv_base.predict(inputs_batch)\n",
    "        features[i * batch_size : (i + 1) * batch_size] = features_batch\n",
    "        labels[i * batch_size : (i + 1) * batch_size] = labels_batch\n",
    "        i += 1\n",
    "        if i * batch_size >= sample_count:\n",
    "            # 제너레이터는 루프 안에서 무한하게 데이터를 만들어내므로 모든 이미지를 한 번씩 처리하고 나면 중지합니다\n",
    "            break\n",
    "    return features, labels\n",
    "\n",
    "train_features, train_labels = extract_features(train_dir, 8000)\n",
    "validation_features, validation_labels = extract_features(validation_dir, 4000)\n",
    "test_features, test_labels = extract_features(test_dir, 4000)\n",
    "\n",
    "train_features = np.reshape(train_features, (8000, 4 * 4 * 512))\n",
    "validation_features = np.reshape(validation_features, (4000, 4 * 4 * 512))\n",
    "test_features = np.reshape(test_features, (4000, 4 * 4 * 512))\n",
    "\n",
    "\n"
   ]
  },
  {
   "cell_type": "code",
   "execution_count": 5,
   "metadata": {},
   "outputs": [
    {
     "name": "stdout",
     "output_type": "stream",
     "text": [
      "WARNING:tensorflow:From C:\\Users\\Affinity\\.conda\\envs\\keras\\lib\\site-packages\\keras\\backend\\tensorflow_backend.py:3445: calling dropout (from tensorflow.python.ops.nn_ops) with keep_prob is deprecated and will be removed in a future version.\n",
      "Instructions for updating:\n",
      "Please use `rate` instead of `keep_prob`. Rate should be set to `rate = 1 - keep_prob`.\n",
      "WARNING:tensorflow:From C:\\Users\\Affinity\\.conda\\envs\\keras\\lib\\site-packages\\tensorflow\\python\\ops\\math_ops.py:3066: to_int32 (from tensorflow.python.ops.math_ops) is deprecated and will be removed in a future version.\n",
      "Instructions for updating:\n",
      "Use tf.cast instead.\n",
      "Train on 8000 samples, validate on 4000 samples\n",
      "Epoch 1/50\n",
      "8000/8000 [==============================] - 4s 544us/step - loss: 1.7108 - acc: 0.2979 - val_loss: 1.6110 - val_acc: 0.3583\n",
      "Epoch 2/50\n",
      "8000/8000 [==============================] - 4s 453us/step - loss: 1.4411 - acc: 0.4328 - val_loss: 1.5684 - val_acc: 0.3583\n",
      "Epoch 3/50\n",
      "8000/8000 [==============================] - 4s 460us/step - loss: 1.3337 - acc: 0.4879 - val_loss: 1.5574 - val_acc: 0.3680\n",
      "Epoch 4/50\n",
      "8000/8000 [==============================] - 4s 452us/step - loss: 1.2590 - acc: 0.5271 - val_loss: 1.5247 - val_acc: 0.3820\n",
      "Epoch 5/50\n",
      "8000/8000 [==============================] - 4s 471us/step - loss: 1.1891 - acc: 0.5475 - val_loss: 1.5111 - val_acc: 0.3935\n",
      "Epoch 6/50\n",
      "8000/8000 [==============================] - 4s 469us/step - loss: 1.1424 - acc: 0.5704 - val_loss: 1.4925 - val_acc: 0.4007\n",
      "Epoch 7/50\n",
      "8000/8000 [==============================] - 4s 484us/step - loss: 1.0948 - acc: 0.5879 - val_loss: 1.5039 - val_acc: 0.3975\n",
      "Epoch 8/50\n",
      "8000/8000 [==============================] - 4s 449us/step - loss: 1.0523 - acc: 0.6078 - val_loss: 1.5021 - val_acc: 0.4060\n",
      "Epoch 9/50\n",
      "8000/8000 [==============================] - 4s 476us/step - loss: 1.0254 - acc: 0.6181 - val_loss: 1.5142 - val_acc: 0.4043\n",
      "Epoch 10/50\n",
      "8000/8000 [==============================] - 4s 460us/step - loss: 0.9921 - acc: 0.6368 - val_loss: 1.4994 - val_acc: 0.4130\n",
      "Epoch 11/50\n",
      "8000/8000 [==============================] - 4s 470us/step - loss: 0.9601 - acc: 0.6525 - val_loss: 1.5003 - val_acc: 0.4170\n",
      "Epoch 12/50\n",
      "8000/8000 [==============================] - 4s 483us/step - loss: 0.9272 - acc: 0.6653 - val_loss: 1.4996 - val_acc: 0.4115\n",
      "Epoch 13/50\n",
      "8000/8000 [==============================] - 4s 462us/step - loss: 0.8967 - acc: 0.6753 - val_loss: 1.4901 - val_acc: 0.4233\n",
      "Epoch 14/50\n",
      "8000/8000 [==============================] - 4s 454us/step - loss: 0.8817 - acc: 0.6801 - val_loss: 1.4880 - val_acc: 0.4220\n",
      "Epoch 15/50\n",
      "8000/8000 [==============================] - 4s 462us/step - loss: 0.8465 - acc: 0.6951 - val_loss: 1.5078 - val_acc: 0.4160\n",
      "Epoch 16/50\n",
      "8000/8000 [==============================] - 4s 485us/step - loss: 0.8282 - acc: 0.7077 - val_loss: 1.5193 - val_acc: 0.4165\n",
      "Epoch 17/50\n",
      "8000/8000 [==============================] - 4s 468us/step - loss: 0.8063 - acc: 0.7147 - val_loss: 1.4999 - val_acc: 0.4318\n",
      "Epoch 18/50\n",
      "8000/8000 [==============================] - 4s 471us/step - loss: 0.7854 - acc: 0.7191 - val_loss: 1.5163 - val_acc: 0.4263\n",
      "Epoch 19/50\n",
      "8000/8000 [==============================] - 4s 484us/step - loss: 0.7659 - acc: 0.7289 - val_loss: 1.5374 - val_acc: 0.4305\n",
      "Epoch 20/50\n",
      "8000/8000 [==============================] - 4s 514us/step - loss: 0.7499 - acc: 0.7356 - val_loss: 1.5224 - val_acc: 0.4323\n",
      "Epoch 21/50\n",
      "8000/8000 [==============================] - 4s 464us/step - loss: 0.7224 - acc: 0.7525 - val_loss: 1.5442 - val_acc: 0.4263\n",
      "Epoch 22/50\n",
      "8000/8000 [==============================] - 4s 465us/step - loss: 0.7055 - acc: 0.7554 - val_loss: 1.5562 - val_acc: 0.4330\n",
      "Epoch 23/50\n",
      "8000/8000 [==============================] - 4s 471us/step - loss: 0.6931 - acc: 0.7589 - val_loss: 1.5390 - val_acc: 0.4305\n",
      "Epoch 24/50\n",
      "8000/8000 [==============================] - 4s 503us/step - loss: 0.6797 - acc: 0.7671 - val_loss: 1.5598 - val_acc: 0.4275\n",
      "Epoch 25/50\n",
      "8000/8000 [==============================] - 4s 472us/step - loss: 0.6609 - acc: 0.7755 - val_loss: 1.5722 - val_acc: 0.4273\n",
      "Epoch 26/50\n",
      "8000/8000 [==============================] - 4s 491us/step - loss: 0.6505 - acc: 0.7804 - val_loss: 1.5763 - val_acc: 0.4363\n",
      "Epoch 27/50\n",
      "8000/8000 [==============================] - 4s 483us/step - loss: 0.6268 - acc: 0.7888 - val_loss: 1.5632 - val_acc: 0.4345\n",
      "Epoch 28/50\n",
      "8000/8000 [==============================] - 4s 524us/step - loss: 0.6146 - acc: 0.7973 - val_loss: 1.5728 - val_acc: 0.4395\n",
      "Epoch 29/50\n",
      "8000/8000 [==============================] - 4s 492us/step - loss: 0.5989 - acc: 0.8035 - val_loss: 1.6043 - val_acc: 0.4358\n",
      "Epoch 30/50\n",
      "8000/8000 [==============================] - 4s 492us/step - loss: 0.5846 - acc: 0.8066 - val_loss: 1.5982 - val_acc: 0.4400\n",
      "Epoch 31/50\n",
      "8000/8000 [==============================] - 4s 483us/step - loss: 0.5797 - acc: 0.8118 - val_loss: 1.6231 - val_acc: 0.4315\n",
      "Epoch 32/50\n",
      "8000/8000 [==============================] - 4s 505us/step - loss: 0.5625 - acc: 0.8184 - val_loss: 1.6105 - val_acc: 0.4415\n",
      "Epoch 33/50\n",
      "8000/8000 [==============================] - 4s 532us/step - loss: 0.5463 - acc: 0.8219 - val_loss: 1.6255 - val_acc: 0.4425\n",
      "Epoch 34/50\n",
      "8000/8000 [==============================] - 4s 472us/step - loss: 0.5368 - acc: 0.8264 - val_loss: 1.6498 - val_acc: 0.4293\n",
      "Epoch 35/50\n",
      "8000/8000 [==============================] - 4s 470us/step - loss: 0.5264 - acc: 0.8322 - val_loss: 1.6291 - val_acc: 0.4375\n",
      "Epoch 36/50\n",
      "8000/8000 [==============================] - 4s 525us/step - loss: 0.5077 - acc: 0.8379 - val_loss: 1.6359 - val_acc: 0.4388\n",
      "Epoch 37/50\n",
      "8000/8000 [==============================] - 4s 478us/step - loss: 0.5043 - acc: 0.8392 - val_loss: 1.6627 - val_acc: 0.4378\n",
      "Epoch 38/50\n",
      "8000/8000 [==============================] - 4s 487us/step - loss: 0.4902 - acc: 0.8470 - val_loss: 1.6764 - val_acc: 0.4338\n",
      "Epoch 39/50\n",
      "8000/8000 [==============================] - 4s 479us/step - loss: 0.4758 - acc: 0.8530 - val_loss: 1.6819 - val_acc: 0.4388\n",
      "Epoch 40/50\n",
      "8000/8000 [==============================] - 4s 506us/step - loss: 0.4689 - acc: 0.8561 - val_loss: 1.6843 - val_acc: 0.4418\n",
      "Epoch 41/50\n",
      "8000/8000 [==============================] - 4s 493us/step - loss: 0.4585 - acc: 0.8574 - val_loss: 1.6933 - val_acc: 0.4430\n",
      "Epoch 42/50\n",
      "8000/8000 [==============================] - 4s 478us/step - loss: 0.4515 - acc: 0.8610 - val_loss: 1.6974 - val_acc: 0.4383\n",
      "Epoch 43/50\n",
      "8000/8000 [==============================] - 4s 489us/step - loss: 0.4415 - acc: 0.8675 - val_loss: 1.7019 - val_acc: 0.4390\n",
      "Epoch 44/50\n",
      "8000/8000 [==============================] - 4s 483us/step - loss: 0.4267 - acc: 0.8714 - val_loss: 1.7477 - val_acc: 0.4355\n",
      "Epoch 45/50\n",
      "8000/8000 [==============================] - 4s 496us/step - loss: 0.4175 - acc: 0.8755 - val_loss: 1.7110 - val_acc: 0.4410\n",
      "Epoch 46/50\n",
      "8000/8000 [==============================] - 4s 485us/step - loss: 0.4065 - acc: 0.8777 - val_loss: 1.7477 - val_acc: 0.4373\n",
      "Epoch 47/50\n",
      "8000/8000 [==============================] - 4s 479us/step - loss: 0.3992 - acc: 0.8819 - val_loss: 1.7453 - val_acc: 0.4415\n",
      "Epoch 48/50\n",
      "8000/8000 [==============================] - 4s 488us/step - loss: 0.3955 - acc: 0.8820 - val_loss: 1.7590 - val_acc: 0.4395\n",
      "Epoch 49/50\n",
      "8000/8000 [==============================] - 4s 507us/step - loss: 0.3845 - acc: 0.8852 - val_loss: 1.7832 - val_acc: 0.4393\n",
      "Epoch 50/50\n",
      "8000/8000 [==============================] - 4s 490us/step - loss: 0.3739 - acc: 0.8881 - val_loss: 1.7935 - val_acc: 0.4350\n"
     ]
    }
   ],
   "source": [
    "from keras import models\n",
    "from keras import layers\n",
    "from keras import optimizers\n",
    "\n",
    "model = models.Sequential()\n",
    "model.add(layers.Dense(256, activation='relu', input_dim=4 * 4 * 512))\n",
    "model.add(layers.Dropout(0.5))\n",
    "model.add(layers.Dense(6, activation='softmax'))\n",
    "\n",
    "model.compile(optimizer=optimizers.RMSprop(lr=2e-5),\n",
    "              loss='categorical_crossentropy',\n",
    "              metrics=['acc'])\n",
    "\n",
    "history = model.fit(train_features, train_labels,\n",
    "                    epochs=50,\n",
    "                    batch_size=20,\n",
    "                    validation_data=(validation_features, validation_labels))\n",
    "\n",
    "\n",
    "\n"
   ]
  },
  {
   "cell_type": "code",
   "execution_count": 7,
   "metadata": {},
   "outputs": [
    {
     "data": {
      "image/png": "[encoded data removed]",
      "text/plain": [
       "<Figure size 432x288 with 1 Axes>"
      ]
     },
     "metadata": {
      "needs_background": "light"
     },
     "output_type": "display_data"
    },
    {
     "data": {
      "image/png": "[encoded data removed]",
      "text/plain": [
       "<Figure size 432x288 with 1 Axes>"
      ]
     },
     "metadata": {
      "needs_background": "light"
     },
     "output_type": "display_data"
    }
   ],
   "source": [
    "import matplotlib.pyplot as plt\n",
    "\n",
    "\n",
    "acc = history.history['acc']\n",
    "val_acc = history.history['val_acc']\n",
    "loss = history.history['loss']\n",
    "val_loss = history.history['val_loss']\n",
    "\n",
    "epochs = range(len(acc))\n",
    "\n",
    "plt.plot(epochs, acc, 'bo', label='Training acc')\n",
    "plt.plot(epochs, val_acc, 'b', label='Validation acc')\n",
    "plt.title('Training and validation accuracy')\n",
    "plt.legend()\n",
    "\n",
    "plt.figure()\n",
    "\n",
    "plt.plot(epochs, loss, 'bo', label='Training loss')\n",
    "plt.plot(epochs, val_loss, 'b', label='Validation loss')\n",
    "plt.title('Training and validation loss')\n",
    "plt.legend()\n",
    "\n",
    "plt.show()"
   ]
  },
  {
   "cell_type": "code",
   "execution_count": null,
   "metadata": {},
   "outputs": [],
   "source": [
    "# import keras\n",
    "\n",
    "# from keras.models import Sequential\n",
    "# from keras.layers import Conv2D, MaxPooling2D, Flatten, Dense, Dropout\n",
    "\n",
    "# from keras.optimizers import Adam\n",
    "\n",
    "# from keras.applications import VGG16\n",
    "\n",
    "# conv_base = VGG16(weights='imagenet',\n",
    "#                  include_top=False,\n",
    "#                  input_shape=(100, 100, 3))\n",
    "\n",
    "# model = Sequential()\n",
    "# model.add(conv_base)\n",
    "# model.add(Flatten())\n",
    "# model.add(Dense(256, activation='relu'))\n",
    "# model.add(Dense(6, activation='softmax'))\n",
    "\n",
    "# adam = Adam()\n",
    "\n",
    "# model.compile(loss='categorical_crossentropy',\n",
    "#              optimizer=adam,\n",
    "#              metrics=['acc'])\n",
    "\n",
    "\n",
    "# history = model.fit_generator(\n",
    "#     train_generator,\n",
    "#     steps_per_epoch=100,\n",
    "#     epochs=300,\n",
    "#     validation_data=validation_generator,\n",
    "#     validation_steps=150\n",
    "# )\n"
   ]
  },
  {
   "cell_type": "code",
   "execution_count": 9,
   "metadata": {},
   "outputs": [
    {
     "name": "stdout",
     "output_type": "stream",
     "text": [
      "Epoch 1/20\n",
      "50/50 [==============================] - 24s 488ms/step - loss: 2.0312 - acc: 0.1980 - val_loss: 1.7824 - val_acc: 0.2680\n",
      "Epoch 2/20\n",
      "50/50 [==============================] - 23s 454ms/step - loss: 1.6573 - acc: 0.2960 - val_loss: 1.7119 - val_acc: 0.2280\n",
      "Epoch 3/20\n",
      "50/50 [==============================] - 24s 487ms/step - loss: 1.5122 - acc: 0.3530 - val_loss: 1.7075 - val_acc: 0.2880\n",
      "Epoch 4/20\n",
      "50/50 [==============================] - 25s 504ms/step - loss: 1.5383 - acc: 0.3460 - val_loss: 1.7022 - val_acc: 0.2500\n",
      "Epoch 5/20\n",
      "50/50 [==============================] - 26s 514ms/step - loss: 1.5348 - acc: 0.3510 - val_loss: 1.6906 - val_acc: 0.3240\n",
      "Epoch 6/20\n",
      "50/50 [==============================] - 26s 511ms/step - loss: 1.4604 - acc: 0.3920 - val_loss: 1.6464 - val_acc: 0.3340\n",
      "Epoch 7/20\n",
      "50/50 [==============================] - 26s 512ms/step - loss: 1.4788 - acc: 0.4120 - val_loss: 1.6954 - val_acc: 0.2580\n",
      "Epoch 8/20\n",
      "50/50 [==============================] - 25s 502ms/step - loss: 1.3758 - acc: 0.4360 - val_loss: 1.6581 - val_acc: 0.2900\n",
      "Epoch 9/20\n",
      "50/50 [==============================] - 26s 514ms/step - loss: 1.3590 - acc: 0.4760 - val_loss: 1.6510 - val_acc: 0.3360\n",
      "Epoch 10/20\n",
      "50/50 [==============================] - 26s 526ms/step - loss: 1.2685 - acc: 0.5040 - val_loss: 1.6127 - val_acc: 0.3240\n",
      "Epoch 11/20\n",
      "50/50 [==============================] - 27s 530ms/step - loss: 1.2055 - acc: 0.5220 - val_loss: 1.6203 - val_acc: 0.3140\n",
      "Epoch 12/20\n",
      "50/50 [==============================] - 26s 525ms/step - loss: 1.1363 - acc: 0.5620 - val_loss: 1.6130 - val_acc: 0.3420\n",
      "Epoch 13/20\n",
      "50/50 [==============================] - 27s 535ms/step - loss: 1.0326 - acc: 0.6170 - val_loss: 1.6399 - val_acc: 0.2840\n",
      "Epoch 14/20\n",
      "50/50 [==============================] - 26s 513ms/step - loss: 0.9918 - acc: 0.6450 - val_loss: 1.6325 - val_acc: 0.2840\n",
      "Epoch 15/20\n",
      "50/50 [==============================] - 26s 515ms/step - loss: 0.9742 - acc: 0.6310 - val_loss: 1.6423 - val_acc: 0.3000\n",
      "Epoch 16/20\n",
      "50/50 [==============================] - 26s 525ms/step - loss: 0.8870 - acc: 0.6730 - val_loss: 1.6353 - val_acc: 0.3000\n",
      "Epoch 17/20\n",
      "50/50 [==============================] - 26s 513ms/step - loss: 0.8592 - acc: 0.6760 - val_loss: 1.6253 - val_acc: 0.3480\n",
      "Epoch 18/20\n",
      "50/50 [==============================] - 26s 528ms/step - loss: 0.7809 - acc: 0.7160 - val_loss: 1.6750 - val_acc: 0.3160\n",
      "Epoch 19/20\n",
      "50/50 [==============================] - 27s 539ms/step - loss: 0.7087 - acc: 0.7420 - val_loss: 1.6924 - val_acc: 0.3000\n",
      "Epoch 20/20\n",
      "50/50 [==============================] - 27s 540ms/step - loss: 0.7591 - acc: 0.7200 - val_loss: 1.7351 - val_acc: 0.3240\n"
     ]
    }
   ],
   "source": [
    "from keras.models import Sequential\n",
    "from keras.layers import Conv2D, MaxPooling2D, Flatten, Dense, Dropout\n",
    "\n",
    "\n",
    "model = Sequential()\n",
    "\n",
    "model.add(Conv2D(32, (5, 5), activation='relu',\n",
    "         input_shape=(150, 150, 3)))\n",
    "model.add(Dropout(0.5))\n",
    "model.add(MaxPooling2D(pool_size=(2, 2)))\n",
    "model.add(Conv2D(64, (4, 4), activation='relu'))\n",
    "model.add(Dropout(0.5))\n",
    "model.add(MaxPooling2D(pool_size=(2, 2)))\n",
    "model.add(Conv2D(128, (3, 3), activation='relu'))\n",
    "model.add(Dropout(0.5))\n",
    "model.add(MaxPooling2D(pool_size=(2, 2)))\n",
    "model.add(Flatten())\n",
    "model.add(Dense(128, activation='relu'))\n",
    "model.add(Dropout(0.5))\n",
    "model.add(Dense(6, activation='softmax'))\n",
    "\n",
    "model.compile(loss='categorical_crossentropy',\n",
    "             optimizer='adam',\n",
    "             metrics=['acc'])\n",
    "\n",
    "history = model.fit_generator(\n",
    "    train_generator,\n",
    "    steps_per_epoch=50,\n",
    "    epochs=20,\n",
    "    validation_data=validation_generator,\n",
    "    validation_steps=25\n",
    ")\n",
    "\n"
   ]
  },
  {
   "cell_type": "code",
   "execution_count": 10,
   "metadata": {},
   "outputs": [
    {
     "data": {
      "image/png": "[encoded data removed]",
      "text/plain": [
       "<Figure size 432x288 with 1 Axes>"
      ]
     },
     "metadata": {
      "needs_background": "light"
     },
     "output_type": "display_data"
    },
    {
     "data": {
      "image/png": "[encoded data removed]",
      "text/plain": [
       "<Figure size 432x288 with 1 Axes>"
      ]
     },
     "metadata": {
      "needs_background": "light"
     },
     "output_type": "display_data"
    }
   ],
   "source": [
    "import matplotlib.pyplot as plt\n",
    "\n",
    "\n",
    "acc = history.history['acc']\n",
    "val_acc = history.history['val_acc']\n",
    "loss = history.history['loss']\n",
    "val_loss = history.history['val_loss']\n",
    "\n",
    "epochs = range(len(acc))\n",
    "\n",
    "plt.plot(epochs, acc, 'bo', label='Training acc')\n",
    "plt.plot(epochs, val_acc, 'b', label='Validation acc')\n",
    "plt.title('Training and validation accuracy')\n",
    "plt.legend()\n",
    "\n",
    "plt.figure()\n",
    "\n",
    "plt.plot(epochs, loss, 'bo', label='Training loss')\n",
    "plt.plot(epochs, val_loss, 'b', label='Validation loss')\n",
    "plt.title('Training and validation loss')\n",
    "plt.legend()\n",
    "\n",
    "plt.show()"
   ]
  },
  {
   "cell_type": "code",
   "execution_count": null,
   "metadata": {},
   "outputs": [],
   "source": []
  }
 ],
 "metadata": {
  "colab": {
   "default_view": {},
   "name": "Untitled",
   "provenance": [],
   "version": "0.3.2",
   "views": {}
  },
  "kernelspec": {
   "display_name": "Python [conda env:.conda-keras] *",
   "language": "python",
   "name": "conda-env-.conda-keras-py"
  },
  "language_info": {
   "codemirror_mode": {
    "name": "ipython",
    "version": 3
   },
   "file_extension": ".py",
   "mimetype": "text/x-python",
   "name": "python",
   "nbconvert_exporter": "python",
   "pygments_lexer": "ipython3",
   "version": "3.6.8"
  }
 },
 "nbformat": 4,
 "nbformat_minor": 2
}
